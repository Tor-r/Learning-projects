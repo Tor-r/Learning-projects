{
 "cells": [
  {
   "cell_type": "markdown",
   "metadata": {},
   "source": [
    "## Определение стоимости автомобилей"
   ]
  },
  {
   "cell_type": "markdown",
   "metadata": {},
   "source": [
    "Сервис по продаже автомобилей с пробегом «Не бит, не крашен» разрабатывает приложение для привлечения новых клиентов. В нём можно быстро узнать рыночную стоимость своего автомобиля. В вашем распоряжении исторические данные: технические характеристики, комплектации и цены автомобилей. Вам нужно построить модель для определения стоимости. \n",
    "\n",
    "Заказчику важны:\n",
    "\n",
    "- качество предсказания;\n",
    "- скорость предсказания;\n",
    "- время обучения."
   ]
  },
  {
   "cell_type": "markdown",
   "metadata": {},
   "source": [
    "## Подготовка данных"
   ]
  },
  {
   "cell_type": "markdown",
   "metadata": {},
   "source": [
    "### Загрузка данных и библиотек"
   ]
  },
  {
   "cell_type": "code",
   "execution_count": 1,
   "metadata": {},
   "outputs": [],
   "source": [
    "# загружаем библиотеки\n",
    "import numpy as np\n",
    "import pandas as pd\n",
    "from datetime import datetime\n",
    "import re, time\n",
    "import matplotlib.pyplot as plt\n",
    "import seaborn as sns\n",
    "\n",
    "from sklearn.metrics import r2_score, mean_squared_error, roc_auc_score\n",
    "from sklearn.model_selection import train_test_split, KFold, GridSearchCV\n",
    "from sklearn.linear_model import LinearRegression, Lasso, LassoCV, Ridge\n",
    "from sklearn.preprocessing import OneHotEncoder, MinMaxScaler, OrdinalEncoder, StandardScaler\n",
    "from sklearn.pipeline import Pipeline\n",
    "from sklearn.compose import ColumnTransformer\n",
    "\n",
    "import lightgbm as lgb\n",
    "from catboost import CatBoostRegressor"
   ]
  },
  {
   "cell_type": "code",
   "execution_count": 2,
   "metadata": {},
   "outputs": [],
   "source": [
    "plt.style.use('seaborn')\n",
    "SEED = 777"
   ]
  },
  {
   "cell_type": "code",
   "execution_count": 3,
   "metadata": {},
   "outputs": [],
   "source": [
    "# загружаем данные\n",
    "try:\n",
    "    df = pd.read_csv('../01-data/autos.csv', parse_dates=['DateCrawled', 'DateCreated', 'LastSeen'])\n",
    "except FileNotFoundError:\n",
    "    df = pd.read_csv('/datasets/autos.csv', parse_dates=['DateCrawled', 'DateCreated', 'LastSeen'])"
   ]
  },
  {
   "cell_type": "code",
   "execution_count": 4,
   "metadata": {},
   "outputs": [
    {
     "data": {
      "text/html": [
       "<div>\n",
       "<style scoped>\n",
       "    .dataframe tbody tr th:only-of-type {\n",
       "        vertical-align: middle;\n",
       "    }\n",
       "\n",
       "    .dataframe tbody tr th {\n",
       "        vertical-align: top;\n",
       "    }\n",
       "\n",
       "    .dataframe thead th {\n",
       "        text-align: right;\n",
       "    }\n",
       "</style>\n",
       "<table border=\"1\" class=\"dataframe\">\n",
       "  <thead>\n",
       "    <tr style=\"text-align: right;\">\n",
       "      <th></th>\n",
       "      <th>DateCrawled</th>\n",
       "      <th>Price</th>\n",
       "      <th>VehicleType</th>\n",
       "      <th>RegistrationYear</th>\n",
       "      <th>Gearbox</th>\n",
       "      <th>Power</th>\n",
       "      <th>Model</th>\n",
       "      <th>Kilometer</th>\n",
       "      <th>RegistrationMonth</th>\n",
       "      <th>FuelType</th>\n",
       "      <th>Brand</th>\n",
       "      <th>NotRepaired</th>\n",
       "      <th>DateCreated</th>\n",
       "      <th>NumberOfPictures</th>\n",
       "      <th>PostalCode</th>\n",
       "      <th>LastSeen</th>\n",
       "    </tr>\n",
       "  </thead>\n",
       "  <tbody>\n",
       "    <tr>\n",
       "      <th>0</th>\n",
       "      <td>2016-03-24 11:52:17</td>\n",
       "      <td>480</td>\n",
       "      <td>NaN</td>\n",
       "      <td>1993</td>\n",
       "      <td>manual</td>\n",
       "      <td>0</td>\n",
       "      <td>golf</td>\n",
       "      <td>150000</td>\n",
       "      <td>0</td>\n",
       "      <td>petrol</td>\n",
       "      <td>volkswagen</td>\n",
       "      <td>NaN</td>\n",
       "      <td>2016-03-24</td>\n",
       "      <td>0</td>\n",
       "      <td>70435</td>\n",
       "      <td>2016-04-07 03:16:57</td>\n",
       "    </tr>\n",
       "    <tr>\n",
       "      <th>1</th>\n",
       "      <td>2016-03-24 10:58:45</td>\n",
       "      <td>18300</td>\n",
       "      <td>coupe</td>\n",
       "      <td>2011</td>\n",
       "      <td>manual</td>\n",
       "      <td>190</td>\n",
       "      <td>NaN</td>\n",
       "      <td>125000</td>\n",
       "      <td>5</td>\n",
       "      <td>gasoline</td>\n",
       "      <td>audi</td>\n",
       "      <td>yes</td>\n",
       "      <td>2016-03-24</td>\n",
       "      <td>0</td>\n",
       "      <td>66954</td>\n",
       "      <td>2016-04-07 01:46:50</td>\n",
       "    </tr>\n",
       "    <tr>\n",
       "      <th>2</th>\n",
       "      <td>2016-03-14 12:52:21</td>\n",
       "      <td>9800</td>\n",
       "      <td>suv</td>\n",
       "      <td>2004</td>\n",
       "      <td>auto</td>\n",
       "      <td>163</td>\n",
       "      <td>grand</td>\n",
       "      <td>125000</td>\n",
       "      <td>8</td>\n",
       "      <td>gasoline</td>\n",
       "      <td>jeep</td>\n",
       "      <td>NaN</td>\n",
       "      <td>2016-03-14</td>\n",
       "      <td>0</td>\n",
       "      <td>90480</td>\n",
       "      <td>2016-04-05 12:47:46</td>\n",
       "    </tr>\n",
       "  </tbody>\n",
       "</table>\n",
       "</div>"
      ],
      "text/plain": [
       "          DateCrawled  Price VehicleType  RegistrationYear Gearbox  Power  \\\n",
       "0 2016-03-24 11:52:17    480         NaN              1993  manual      0   \n",
       "1 2016-03-24 10:58:45  18300       coupe              2011  manual    190   \n",
       "2 2016-03-14 12:52:21   9800         suv              2004    auto    163   \n",
       "\n",
       "   Model  Kilometer  RegistrationMonth  FuelType       Brand NotRepaired  \\\n",
       "0   golf     150000                  0    petrol  volkswagen         NaN   \n",
       "1    NaN     125000                  5  gasoline        audi         yes   \n",
       "2  grand     125000                  8  gasoline        jeep         NaN   \n",
       "\n",
       "  DateCreated  NumberOfPictures  PostalCode            LastSeen  \n",
       "0  2016-03-24                 0       70435 2016-04-07 03:16:57  \n",
       "1  2016-03-24                 0       66954 2016-04-07 01:46:50  \n",
       "2  2016-03-14                 0       90480 2016-04-05 12:47:46  "
      ]
     },
     "execution_count": 4,
     "metadata": {},
     "output_type": "execute_result"
    }
   ],
   "source": [
    "df.head(3)"
   ]
  },
  {
   "cell_type": "code",
   "execution_count": 5,
   "metadata": {},
   "outputs": [],
   "source": [
    "# сразу приведем названия переменных из camel в snake case\n",
    "df.columns = [re.sub(r'(?<!^)(?=[A-Z])', '_', x).lower() for x in df.columns]"
   ]
  },
  {
   "cell_type": "code",
   "execution_count": 6,
   "metadata": {},
   "outputs": [
    {
     "name": "stdout",
     "output_type": "stream",
     "text": [
      "<class 'pandas.core.frame.DataFrame'>\n",
      "RangeIndex: 354369 entries, 0 to 354368\n",
      "Data columns (total 16 columns):\n",
      " #   Column              Non-Null Count   Dtype         \n",
      "---  ------              --------------   -----         \n",
      " 0   date_crawled        354369 non-null  datetime64[ns]\n",
      " 1   price               354369 non-null  int64         \n",
      " 2   vehicle_type        316879 non-null  object        \n",
      " 3   registration_year   354369 non-null  int64         \n",
      " 4   gearbox             334536 non-null  object        \n",
      " 5   power               354369 non-null  int64         \n",
      " 6   model               334664 non-null  object        \n",
      " 7   kilometer           354369 non-null  int64         \n",
      " 8   registration_month  354369 non-null  int64         \n",
      " 9   fuel_type           321474 non-null  object        \n",
      " 10  brand               354369 non-null  object        \n",
      " 11  not_repaired        283215 non-null  object        \n",
      " 12  date_created        354369 non-null  datetime64[ns]\n",
      " 13  number_of_pictures  354369 non-null  int64         \n",
      " 14  postal_code         354369 non-null  int64         \n",
      " 15  last_seen           354369 non-null  datetime64[ns]\n",
      "dtypes: datetime64[ns](3), int64(7), object(6)\n",
      "memory usage: 43.3+ MB\n"
     ]
    }
   ],
   "source": [
    "# выведем общую информацию о датасете\n",
    "df.info()"
   ]
  },
  {
   "cell_type": "markdown",
   "metadata": {},
   "source": [
    "Данные загружены, в датасете имеется свыше 350 тыс. объектов, 3 признака типа дата, 7 числовых признаков (2 из которых также имеют отношение к дате) и 6 категориальных признаков.\n",
    "\n",
    "Значения признаков:\n",
    "\n",
    "-\tDateCrawled — дата скачивания анкеты из базы\n",
    "-\tVehicleType — тип автомобильного кузова\n",
    "-\tRegistrationYear — год регистрации автомобиля\n",
    "-\tGearbox — тип коробки передач\n",
    "-\tPower — мощность (л. с.)\n",
    "-\tModel — модель автомобиля\n",
    "-\tKilometer — пробег (км)\n",
    "-\tRegistrationMonth — месяц регистрации автомобиля\n",
    "-\tFuelType — тип топлива\n",
    "-\tBrand — марка автомобиля\n",
    "-\tNotRepaired — была машина в ремонте или нет\n",
    "-\tDateCreated — дата создания анкеты\n",
    "-\tNumberOfPictures — количество фотографий автомобиля\n",
    "-\tPostalCode — почтовый индекс владельца анкеты (пользователя)\n",
    "-\tLastSeen — дата последней активности пользователя\n",
    "\n",
    "Целевой признак - **price** — цена в евро\n",
    "\n",
    "От нескольких признаков, которые не пригодятся ни для EDA, ни для моделирования, можно избавиться сразу: number_of_pictures (все значения нулевые), date_crawled, postal_code, last_seen."
   ]
  },
  {
   "cell_type": "code",
   "execution_count": 7,
   "metadata": {},
   "outputs": [],
   "source": [
    "df = df.drop(columns=['number_of_pictures', 'date_crawled', 'postal_code', 'last_seen'], axis=1)"
   ]
  },
  {
   "cell_type": "markdown",
   "metadata": {},
   "source": [
    "### Предобработка данных"
   ]
  },
  {
   "cell_type": "code",
   "execution_count": 8,
   "metadata": {},
   "outputs": [
    {
     "data": {
      "text/html": [
       "<div>\n",
       "<style scoped>\n",
       "    .dataframe tbody tr th:only-of-type {\n",
       "        vertical-align: middle;\n",
       "    }\n",
       "\n",
       "    .dataframe tbody tr th {\n",
       "        vertical-align: top;\n",
       "    }\n",
       "\n",
       "    .dataframe thead th {\n",
       "        text-align: right;\n",
       "    }\n",
       "</style>\n",
       "<table border=\"1\" class=\"dataframe\">\n",
       "  <thead>\n",
       "    <tr style=\"text-align: right;\">\n",
       "      <th></th>\n",
       "      <th>count</th>\n",
       "      <th>mean</th>\n",
       "      <th>std</th>\n",
       "      <th>min</th>\n",
       "      <th>25%</th>\n",
       "      <th>50%</th>\n",
       "      <th>75%</th>\n",
       "      <th>max</th>\n",
       "    </tr>\n",
       "  </thead>\n",
       "  <tbody>\n",
       "    <tr>\n",
       "      <th>price</th>\n",
       "      <td>354369.0</td>\n",
       "      <td>4416.656776</td>\n",
       "      <td>4514.158514</td>\n",
       "      <td>0.0</td>\n",
       "      <td>1050.0</td>\n",
       "      <td>2700.0</td>\n",
       "      <td>6400.0</td>\n",
       "      <td>20000.0</td>\n",
       "    </tr>\n",
       "    <tr>\n",
       "      <th>registration_year</th>\n",
       "      <td>354369.0</td>\n",
       "      <td>2004.234448</td>\n",
       "      <td>90.227958</td>\n",
       "      <td>1000.0</td>\n",
       "      <td>1999.0</td>\n",
       "      <td>2003.0</td>\n",
       "      <td>2008.0</td>\n",
       "      <td>9999.0</td>\n",
       "    </tr>\n",
       "    <tr>\n",
       "      <th>power</th>\n",
       "      <td>354369.0</td>\n",
       "      <td>110.094337</td>\n",
       "      <td>189.850405</td>\n",
       "      <td>0.0</td>\n",
       "      <td>69.0</td>\n",
       "      <td>105.0</td>\n",
       "      <td>143.0</td>\n",
       "      <td>20000.0</td>\n",
       "    </tr>\n",
       "    <tr>\n",
       "      <th>kilometer</th>\n",
       "      <td>354369.0</td>\n",
       "      <td>128211.172535</td>\n",
       "      <td>37905.341530</td>\n",
       "      <td>5000.0</td>\n",
       "      <td>125000.0</td>\n",
       "      <td>150000.0</td>\n",
       "      <td>150000.0</td>\n",
       "      <td>150000.0</td>\n",
       "    </tr>\n",
       "    <tr>\n",
       "      <th>registration_month</th>\n",
       "      <td>354369.0</td>\n",
       "      <td>5.714645</td>\n",
       "      <td>3.726421</td>\n",
       "      <td>0.0</td>\n",
       "      <td>3.0</td>\n",
       "      <td>6.0</td>\n",
       "      <td>9.0</td>\n",
       "      <td>12.0</td>\n",
       "    </tr>\n",
       "  </tbody>\n",
       "</table>\n",
       "</div>"
      ],
      "text/plain": [
       "                       count           mean           std     min       25%  \\\n",
       "price               354369.0    4416.656776   4514.158514     0.0    1050.0   \n",
       "registration_year   354369.0    2004.234448     90.227958  1000.0    1999.0   \n",
       "power               354369.0     110.094337    189.850405     0.0      69.0   \n",
       "kilometer           354369.0  128211.172535  37905.341530  5000.0  125000.0   \n",
       "registration_month  354369.0       5.714645      3.726421     0.0       3.0   \n",
       "\n",
       "                         50%       75%       max  \n",
       "price                 2700.0    6400.0   20000.0  \n",
       "registration_year     2003.0    2008.0    9999.0  \n",
       "power                  105.0     143.0   20000.0  \n",
       "kilometer           150000.0  150000.0  150000.0  \n",
       "registration_month       6.0       9.0      12.0  "
      ]
     },
     "execution_count": 8,
     "metadata": {},
     "output_type": "execute_result"
    }
   ],
   "source": [
    "df.describe(include='number').T"
   ]
  },
  {
   "cell_type": "markdown",
   "metadata": {},
   "source": [
    "В данных много аномальных значений: есть машины как из будущего, так и далекого прошлого, автомобили с мощностью танкера и др. Для целей моделирования от таких объектов лучше избавиться, т.к. возраст и мощность автомобиля существенно влияют на его стоимость.\n",
    "\n",
    "Удалим объекты с годом регистрации до 1960 года (это категория относится уже скорее к антиквариату) и превышающем дату создания объекта (записи были созданы в 2014-2016 годах)."
   ]
  },
  {
   "cell_type": "code",
   "execution_count": 9,
   "metadata": {},
   "outputs": [
    {
     "name": "stdout",
     "output_type": "stream",
     "text": [
      "Всего объектов с аномальными годами - 14952 или 4.22% датасета\n"
     ]
    }
   ],
   "source": [
    "# индекс строк к удалению\n",
    "years_to_drop = df[(df.registration_year > df['date_created'].dt.year) | (df.registration_year < 1960)].index\n",
    "\n",
    "print(f'Всего объектов с аномальными годами - {len(df.loc[years_to_drop])} \\\n",
    "или {len(df.loc[years_to_drop]) / len(df):.2%} датасета')\n",
    "\n",
    "# удаляем объекты\n",
    "df = df.drop(years_to_drop)"
   ]
  },
  {
   "cell_type": "code",
   "execution_count": 10,
   "metadata": {},
   "outputs": [
    {
     "data": {
      "image/png": "[encoded data removed]",
      "text/plain": [
       "<Figure size 576x396 with 1 Axes>"
      ]
     },
     "metadata": {},
     "output_type": "display_data"
    }
   ],
   "source": [
    "sns.histplot(df.registration_year)\n",
    "plt.title('Год регистрации авто')\n",
    "plt.show()"
   ]
  },
  {
   "cell_type": "markdown",
   "metadata": {},
   "source": [
    "Изучим данные о мощности автомобилей."
   ]
  },
  {
   "cell_type": "code",
   "execution_count": 11,
   "metadata": {},
   "outputs": [
    {
     "name": "stdout",
     "output_type": "stream",
     "text": [
      "Распределение мощности автомобилей\n"
     ]
    },
    {
     "data": {
      "text/plain": [
       "(0.0, 500.0)"
      ]
     },
     "execution_count": 11,
     "metadata": {},
     "output_type": "execute_result"
    },
    {
     "data": {
      "image/png": "[encoded data removed]",
      "text/plain": [
       "<Figure size 576x396 with 1 Axes>"
      ]
     },
     "metadata": {},
     "output_type": "display_data"
    }
   ],
   "source": [
    "print('Распределение мощности автомобилей')\n",
    "_ = sns.boxplot(data=df.power)\n",
    "plt.ylim(0, 500)"
   ]
  },
  {
   "cell_type": "code",
   "execution_count": 12,
   "metadata": {},
   "outputs": [
    {
     "data": {
      "text/plain": [
       "36258"
      ]
     },
     "execution_count": 12,
     "metadata": {},
     "output_type": "execute_result"
    }
   ],
   "source": [
    "len(df[df.power == 0])"
   ]
  },
  {
   "cell_type": "markdown",
   "metadata": {},
   "source": [
    "В распределении мощности автомобилей наблюдается большое количество (свыше 10%) нулевых значений и длинный хвост аномально больших значений. Нулевые значения оставим как есть (посмотрим на них на стадии моделирования), а верхний потолок ограничим 600 л.с. (дальше идут только редкие гоночные болиды)."
   ]
  },
  {
   "cell_type": "code",
   "execution_count": 13,
   "metadata": {},
   "outputs": [],
   "source": [
    "df = df[df.power <= 600]"
   ]
  },
  {
   "cell_type": "code",
   "execution_count": 14,
   "metadata": {},
   "outputs": [
    {
     "name": "stdout",
     "output_type": "stream",
     "text": [
      "Распределение мощности автомобилей после обрезки:\n"
     ]
    },
    {
     "data": {
      "image/png": "[encoded data removed]",
      "text/plain": [
       "<Figure size 360x360 with 1 Axes>"
      ]
     },
     "metadata": {},
     "output_type": "display_data"
    }
   ],
   "source": [
    "print('Распределение мощности автомобилей после обрезки:')\n",
    "_ = sns.displot(df.power, kde=True)"
   ]
  },
  {
   "cell_type": "markdown",
   "metadata": {},
   "source": [
    "В данных о цене много нулевых значений. Если их оставить, модели получат неверную установку, что целевая переменная может быть нулевой, что не соответствует действительности. Кроме того, не несут пользы и аномально низкие значения цены. Установим отсечку в данных на уровне 300 евро (это 7%-й квантиль), прочие записи удалим."
   ]
  },
  {
   "cell_type": "code",
   "execution_count": 15,
   "metadata": {},
   "outputs": [],
   "source": [
    "df = df[df.price >= 300]"
   ]
  },
  {
   "cell_type": "code",
   "execution_count": 16,
   "metadata": {},
   "outputs": [
    {
     "name": "stdout",
     "output_type": "stream",
     "text": [
      "Распределение цены автомобилей после обрезки:\n"
     ]
    },
    {
     "data": {
      "image/png": "[encoded data removed]",
      "text/plain": [
       "<Figure size 360x360 with 1 Axes>"
      ]
     },
     "metadata": {},
     "output_type": "display_data"
    }
   ],
   "source": [
    "print('Распределение цены автомобилей после обрезки:')\n",
    "_ = sns.displot(df[df.price > np.quantile(df.price, 0.01)]['price'], kde=True)"
   ]
  },
  {
   "cell_type": "markdown",
   "metadata": {},
   "source": [
    "Также имеются нулевые значения в переменной месяца постановки на учет, оставим их без изменения.\n",
    "\n",
    "Столбец с датой создания объявления нам больше не пригодится, удалим его."
   ]
  },
  {
   "cell_type": "code",
   "execution_count": 17,
   "metadata": {},
   "outputs": [],
   "source": [
    "df = df.drop('date_created', axis=1)"
   ]
  },
  {
   "cell_type": "markdown",
   "metadata": {},
   "source": [
    "\n",
    "\n",
    "Изучим имеющиеся пропуски."
   ]
  },
  {
   "cell_type": "code",
   "execution_count": 18,
   "metadata": {},
   "outputs": [
    {
     "name": "stdout",
     "output_type": "stream",
     "text": [
      "Пропуски в признаках:\n"
     ]
    },
    {
     "data": {
      "text/html": [
       "<div>\n",
       "<style scoped>\n",
       "    .dataframe tbody tr th:only-of-type {\n",
       "        vertical-align: middle;\n",
       "    }\n",
       "\n",
       "    .dataframe tbody tr th {\n",
       "        vertical-align: top;\n",
       "    }\n",
       "\n",
       "    .dataframe thead th {\n",
       "        text-align: right;\n",
       "    }\n",
       "</style>\n",
       "<table border=\"1\" class=\"dataframe\">\n",
       "  <thead>\n",
       "    <tr style=\"text-align: right;\">\n",
       "      <th></th>\n",
       "      <th>percent</th>\n",
       "      <th>abs</th>\n",
       "    </tr>\n",
       "  </thead>\n",
       "  <tbody>\n",
       "    <tr>\n",
       "      <th>not_repaired</th>\n",
       "      <td>0.170092</td>\n",
       "      <td>53941</td>\n",
       "    </tr>\n",
       "    <tr>\n",
       "      <th>fuel_type</th>\n",
       "      <td>0.065125</td>\n",
       "      <td>20653</td>\n",
       "    </tr>\n",
       "    <tr>\n",
       "      <th>vehicle_type</th>\n",
       "      <td>0.051679</td>\n",
       "      <td>16389</td>\n",
       "    </tr>\n",
       "    <tr>\n",
       "      <th>model</th>\n",
       "      <td>0.044200</td>\n",
       "      <td>14017</td>\n",
       "    </tr>\n",
       "    <tr>\n",
       "      <th>gearbox</th>\n",
       "      <td>0.041091</td>\n",
       "      <td>13031</td>\n",
       "    </tr>\n",
       "  </tbody>\n",
       "</table>\n",
       "</div>"
      ],
      "text/plain": [
       "               percent    abs\n",
       "not_repaired  0.170092  53941\n",
       "fuel_type     0.065125  20653\n",
       "vehicle_type  0.051679  16389\n",
       "model         0.044200  14017\n",
       "gearbox       0.041091  13031"
      ]
     },
     "execution_count": 18,
     "metadata": {},
     "output_type": "execute_result"
    }
   ],
   "source": [
    "def df_na(df):\n",
    "    # функция подсчета пропущенных значений в переменных\n",
    "    data = df.isna().sum()\n",
    "    res = (pd.concat([data / df.shape[0], data], axis=1,  keys=['percent', 'abs'])\n",
    "           .sort_values('percent', ascending=False))\n",
    "    return res[res['abs'] > 0]\n",
    "\n",
    "print('Пропуски в признаках:')\n",
    "df_na(df)"
   ]
  },
  {
   "cell_type": "markdown",
   "metadata": {},
   "source": [
    "В численных переменных пропусков нет, зато они имеются во всех категориальных признаках кроме производителя. Изучим их внимательнее."
   ]
  },
  {
   "cell_type": "code",
   "execution_count": 19,
   "metadata": {},
   "outputs": [
    {
     "name": "stdout",
     "output_type": "stream",
     "text": [
      "Категориальные признаки: ['vehicle_type', 'gearbox', 'model', 'fuel_type', 'brand', 'not_repaired']\n",
      "Числовые признаки: ['registration_year', 'power', 'kilometer', 'registration_month']\n"
     ]
    }
   ],
   "source": [
    "cat_var = df.select_dtypes(exclude='number').columns.tolist()\n",
    "num_var = df.select_dtypes(include='number').columns.tolist()\n",
    "num_var.remove('price')\n",
    "print(f'Категориальные признаки: {cat_var}')\n",
    "print(f'Числовые признаки: {num_var}')\n"
   ]
  },
  {
   "cell_type": "code",
   "execution_count": 20,
   "metadata": {},
   "outputs": [
    {
     "data": {
      "text/html": [
       "<div>\n",
       "<style scoped>\n",
       "    .dataframe tbody tr th:only-of-type {\n",
       "        vertical-align: middle;\n",
       "    }\n",
       "\n",
       "    .dataframe tbody tr th {\n",
       "        vertical-align: top;\n",
       "    }\n",
       "\n",
       "    .dataframe thead th {\n",
       "        text-align: right;\n",
       "    }\n",
       "</style>\n",
       "<table border=\"1\" class=\"dataframe\">\n",
       "  <thead>\n",
       "    <tr style=\"text-align: right;\">\n",
       "      <th></th>\n",
       "      <th>vehicle_type</th>\n",
       "      <th>gearbox</th>\n",
       "      <th>model</th>\n",
       "      <th>fuel_type</th>\n",
       "      <th>brand</th>\n",
       "      <th>not_repaired</th>\n",
       "    </tr>\n",
       "  </thead>\n",
       "  <tbody>\n",
       "    <tr>\n",
       "      <th>count</th>\n",
       "      <td>300740</td>\n",
       "      <td>304098</td>\n",
       "      <td>303112</td>\n",
       "      <td>296476</td>\n",
       "      <td>317129</td>\n",
       "      <td>263188</td>\n",
       "    </tr>\n",
       "    <tr>\n",
       "      <th>unique</th>\n",
       "      <td>8</td>\n",
       "      <td>2</td>\n",
       "      <td>250</td>\n",
       "      <td>7</td>\n",
       "      <td>40</td>\n",
       "      <td>2</td>\n",
       "    </tr>\n",
       "    <tr>\n",
       "      <th>top</th>\n",
       "      <td>sedan</td>\n",
       "      <td>manual</td>\n",
       "      <td>golf</td>\n",
       "      <td>petrol</td>\n",
       "      <td>volkswagen</td>\n",
       "      <td>no</td>\n",
       "    </tr>\n",
       "    <tr>\n",
       "      <th>freq</th>\n",
       "      <td>87503</td>\n",
       "      <td>241827</td>\n",
       "      <td>25806</td>\n",
       "      <td>196267</td>\n",
       "      <td>68253</td>\n",
       "      <td>234129</td>\n",
       "    </tr>\n",
       "  </tbody>\n",
       "</table>\n",
       "</div>"
      ],
      "text/plain": [
       "       vehicle_type gearbox   model fuel_type       brand not_repaired\n",
       "count        300740  304098  303112    296476      317129       263188\n",
       "unique            8       2     250         7          40            2\n",
       "top           sedan  manual    golf    petrol  volkswagen           no\n",
       "freq          87503  241827   25806    196267       68253       234129"
      ]
     },
     "execution_count": 20,
     "metadata": {},
     "output_type": "execute_result"
    }
   ],
   "source": [
    "df.describe(include='object')"
   ]
  },
  {
   "cell_type": "code",
   "execution_count": 21,
   "metadata": {},
   "outputs": [
    {
     "data": {
      "text/html": [
       "<div>\n",
       "<style scoped>\n",
       "    .dataframe tbody tr th:only-of-type {\n",
       "        vertical-align: middle;\n",
       "    }\n",
       "\n",
       "    .dataframe tbody tr th {\n",
       "        vertical-align: top;\n",
       "    }\n",
       "\n",
       "    .dataframe thead th {\n",
       "        text-align: right;\n",
       "    }\n",
       "</style>\n",
       "<table border=\"1\" class=\"dataframe\">\n",
       "  <thead>\n",
       "    <tr style=\"text-align: right;\">\n",
       "      <th></th>\n",
       "      <th>vehicle_type</th>\n",
       "      <th>gearbox</th>\n",
       "      <th>model</th>\n",
       "      <th>fuel_type</th>\n",
       "      <th>brand</th>\n",
       "      <th>not_repaired</th>\n",
       "    </tr>\n",
       "    <tr>\n",
       "      <th>model</th>\n",
       "      <th></th>\n",
       "      <th></th>\n",
       "      <th></th>\n",
       "      <th></th>\n",
       "      <th></th>\n",
       "      <th></th>\n",
       "    </tr>\n",
       "  </thead>\n",
       "  <tbody>\n",
       "    <tr>\n",
       "      <th>100</th>\n",
       "      <td>361</td>\n",
       "      <td>365</td>\n",
       "      <td>377</td>\n",
       "      <td>352</td>\n",
       "      <td>377</td>\n",
       "      <td>294</td>\n",
       "    </tr>\n",
       "    <tr>\n",
       "      <th>145</th>\n",
       "      <td>28</td>\n",
       "      <td>29</td>\n",
       "      <td>31</td>\n",
       "      <td>28</td>\n",
       "      <td>31</td>\n",
       "      <td>26</td>\n",
       "    </tr>\n",
       "    <tr>\n",
       "      <th>147</th>\n",
       "      <td>483</td>\n",
       "      <td>510</td>\n",
       "      <td>526</td>\n",
       "      <td>508</td>\n",
       "      <td>526</td>\n",
       "      <td>454</td>\n",
       "    </tr>\n",
       "    <tr>\n",
       "      <th>156</th>\n",
       "      <td>529</td>\n",
       "      <td>538</td>\n",
       "      <td>553</td>\n",
       "      <td>514</td>\n",
       "      <td>553</td>\n",
       "      <td>455</td>\n",
       "    </tr>\n",
       "    <tr>\n",
       "      <th>159</th>\n",
       "      <td>198</td>\n",
       "      <td>203</td>\n",
       "      <td>203</td>\n",
       "      <td>194</td>\n",
       "      <td>203</td>\n",
       "      <td>189</td>\n",
       "    </tr>\n",
       "    <tr>\n",
       "      <th>...</th>\n",
       "      <td>...</td>\n",
       "      <td>...</td>\n",
       "      <td>...</td>\n",
       "      <td>...</td>\n",
       "      <td>...</td>\n",
       "      <td>...</td>\n",
       "    </tr>\n",
       "    <tr>\n",
       "      <th>yeti</th>\n",
       "      <td>171</td>\n",
       "      <td>171</td>\n",
       "      <td>172</td>\n",
       "      <td>170</td>\n",
       "      <td>172</td>\n",
       "      <td>167</td>\n",
       "    </tr>\n",
       "    <tr>\n",
       "      <th>ypsilon</th>\n",
       "      <td>162</td>\n",
       "      <td>167</td>\n",
       "      <td>172</td>\n",
       "      <td>161</td>\n",
       "      <td>172</td>\n",
       "      <td>149</td>\n",
       "    </tr>\n",
       "    <tr>\n",
       "      <th>z_reihe</th>\n",
       "      <td>696</td>\n",
       "      <td>686</td>\n",
       "      <td>700</td>\n",
       "      <td>687</td>\n",
       "      <td>700</td>\n",
       "      <td>659</td>\n",
       "    </tr>\n",
       "    <tr>\n",
       "      <th>zafira</th>\n",
       "      <td>2644</td>\n",
       "      <td>2651</td>\n",
       "      <td>2786</td>\n",
       "      <td>2614</td>\n",
       "      <td>2786</td>\n",
       "      <td>2349</td>\n",
       "    </tr>\n",
       "    <tr>\n",
       "      <th>NaN</th>\n",
       "      <td>11049</td>\n",
       "      <td>11964</td>\n",
       "      <td>0</td>\n",
       "      <td>9899</td>\n",
       "      <td>14017</td>\n",
       "      <td>8296</td>\n",
       "    </tr>\n",
       "  </tbody>\n",
       "</table>\n",
       "<p>251 rows × 6 columns</p>\n",
       "</div>"
      ],
      "text/plain": [
       "         vehicle_type  gearbox  model  fuel_type  brand  not_repaired\n",
       "model                                                                \n",
       "100               361      365    377        352    377           294\n",
       "145                28       29     31         28     31            26\n",
       "147               483      510    526        508    526           454\n",
       "156               529      538    553        514    553           455\n",
       "159               198      203    203        194    203           189\n",
       "...               ...      ...    ...        ...    ...           ...\n",
       "yeti              171      171    172        170    172           167\n",
       "ypsilon           162      167    172        161    172           149\n",
       "z_reihe           696      686    700        687    700           659\n",
       "zafira           2644     2651   2786       2614   2786          2349\n",
       "NaN             11049    11964      0       9899  14017          8296\n",
       "\n",
       "[251 rows x 6 columns]"
      ]
     },
     "execution_count": 21,
     "metadata": {},
     "output_type": "execute_result"
    }
   ],
   "source": [
    "df.groupby(by=['model'], dropna=False)[cat_var].count()"
   ]
  },
  {
   "cell_type": "markdown",
   "metadata": {},
   "source": [
    "Основания для заполнения пропусков какими-либо значения отсутствуют. Просто обозначим отсутствующие значения строкой unk - unknown."
   ]
  },
  {
   "cell_type": "code",
   "execution_count": 22,
   "metadata": {},
   "outputs": [],
   "source": [
    "df[cat_var] = df[cat_var].fillna('unk')"
   ]
  },
  {
   "cell_type": "markdown",
   "metadata": {},
   "source": [
    "В данных типа топлива присутствует 2 класса - petrol и gasoline. Отставим только один, т.к. это разные названия одного и того же."
   ]
  },
  {
   "cell_type": "code",
   "execution_count": 23,
   "metadata": {},
   "outputs": [],
   "source": [
    "df.loc[df.fuel_type == 'gasoline', 'fuel_type'] = 'petrol'"
   ]
  },
  {
   "cell_type": "code",
   "execution_count": 24,
   "metadata": {},
   "outputs": [
    {
     "name": "stdout",
     "output_type": "stream",
     "text": [
      "Дубликатов: 25077\n"
     ]
    }
   ],
   "source": [
    "# наличие явных дубликатов\n",
    "print('Дубликатов:', df.duplicated().sum())\n",
    "\n",
    "df = df.drop_duplicates()"
   ]
  },
  {
   "cell_type": "markdown",
   "metadata": {},
   "source": [
    "Выведем гистограммы и сводку в целом по датасету."
   ]
  },
  {
   "cell_type": "code",
   "execution_count": 25,
   "metadata": {},
   "outputs": [
    {
     "data": {
      "image/png": "[encoded data removed]",
      "text/plain": [
       "<Figure size 720x720 with 6 Axes>"
      ]
     },
     "metadata": {},
     "output_type": "display_data"
    }
   ],
   "source": [
    "df.hist(bins=50, figsize=(10,10), edgecolor='black', linewidth=1)\n",
    "plt.show()"
   ]
  },
  {
   "cell_type": "markdown",
   "metadata": {},
   "source": [
    "Гистограммы числовых признаков и другие моменты указывают на то, что данные синтетические. Это хорошо заметно по показателю пробега, наличию случайных значений в мощности автомобилей и др."
   ]
  },
  {
   "cell_type": "code",
   "execution_count": 27,
   "metadata": {},
   "outputs": [
    {
     "name": "stdout",
     "output_type": "stream",
     "text": [
      "<class 'pandas.core.frame.DataFrame'>\n",
      "Int64Index: 292052 entries, 0 to 354368\n",
      "Data columns (total 11 columns):\n",
      " #   Column              Non-Null Count   Dtype \n",
      "---  ------              --------------   ----- \n",
      " 0   price               292052 non-null  int64 \n",
      " 1   vehicle_type        292052 non-null  object\n",
      " 2   registration_year   292052 non-null  int64 \n",
      " 3   gearbox             292052 non-null  object\n",
      " 4   power               292052 non-null  int64 \n",
      " 5   model               292052 non-null  object\n",
      " 6   kilometer           292052 non-null  int64 \n",
      " 7   registration_month  292052 non-null  int64 \n",
      " 8   fuel_type           292052 non-null  object\n",
      " 9   brand               292052 non-null  object\n",
      " 10  not_repaired        292052 non-null  object\n",
      "dtypes: int64(5), object(6)\n",
      "memory usage: 26.7+ MB\n"
     ]
    }
   ],
   "source": [
    "df.info()"
   ]
  },
  {
   "cell_type": "markdown",
   "metadata": {},
   "source": [
    "### Разбивка данных\n",
    "\n",
    "Разобьем данные на обучающую (75%) и тестовую (25%) выборки."
   ]
  },
  {
   "cell_type": "code",
   "execution_count": 28,
   "metadata": {},
   "outputs": [
    {
     "data": {
      "text/plain": [
       "((292052, 10), (292052,))"
      ]
     },
     "execution_count": 28,
     "metadata": {},
     "output_type": "execute_result"
    }
   ],
   "source": [
    "X = df.drop('price', axis=1)\n",
    "y = df.price\n",
    "X.shape, y.shape"
   ]
  },
  {
   "cell_type": "code",
   "execution_count": 29,
   "metadata": {},
   "outputs": [
    {
     "name": "stdout",
     "output_type": "stream",
     "text": [
      "X_train: (219039, 10), y_train: (219039,)\n",
      "X_test: (73013, 10), y_test: (73013,)\n"
     ]
    }
   ],
   "source": [
    "X_train, X_test, y_train, y_test = train_test_split(X, y, test_size=0.25, random_state=SEED)\n",
    "\n",
    "print(f'X_train: {X_train.shape}, y_train: {y_train.shape}')\n",
    "print(f'X_test: {X_test.shape}, y_test: {y_test.shape}')"
   ]
  },
  {
   "cell_type": "markdown",
   "metadata": {},
   "source": [
    "### Итоги предобработки\n",
    "\n",
    "Мы загрузили, изучили и очистили данные от явных дубликатов, пропусков и видимых аномалий. В процессе предобработки было удалено около 18% записей и несколько признаков, что, как мы ожидаем, даст более релевантные данные для построения моделей.\n",
    "\n",
    "По итогам предобработки мы подготовили данные для моделирования, разбив их на тренировочную и тестовые выборки. В процессе моделирования мы предполагаем использовать кросс-валидацию."
   ]
  },
  {
   "cell_type": "markdown",
   "metadata": {},
   "source": [
    "## Обучение моделей"
   ]
  },
  {
   "cell_type": "markdown",
   "metadata": {},
   "source": [
    "Создадим функцию, которая позволит агрегировать данные о результатах использования разных моделей."
   ]
  },
  {
   "cell_type": "code",
   "execution_count": 30,
   "metadata": {},
   "outputs": [],
   "source": [
    "def modelling(model, x, y, x_test, y_test, name='model'):\n",
    "    start = time.perf_counter()\n",
    "    model = model\n",
    "    model.fit(x, y)\n",
    "    train_time = time.perf_counter() - start\n",
    "    \n",
    "    rmse = mean_squared_error(y_test, model.predict(x_test), squared=False)\n",
    "    r2 = r2_score(y_test, model.predict(x_test))\n",
    "    pred_time = time.perf_counter() - start - train_time\n",
    "    print(f'RMSE = {rmse:.0f}, R2 = {r2:.2f}')\n",
    "    return name, rmse, r2, train_time, pred_time\n",
    "\n",
    "models = []"
   ]
  },
  {
   "cell_type": "markdown",
   "metadata": {},
   "source": [
    "### Линейная регрессия"
   ]
  },
  {
   "cell_type": "markdown",
   "metadata": {},
   "source": [
    "В начале посмотрим как работает с нашими данными модель линейной регрессии. Отмасштабирует числовые признаки и передадим их в конвейер, который переведет категориальные признаки в числовые прямым кодированием."
   ]
  },
  {
   "cell_type": "code",
   "execution_count": 32,
   "metadata": {},
   "outputs": [],
   "source": [
    "scaler = StandardScaler()\n",
    "scaler.fit(X_train[num_var])\n",
    "\n",
    "X_train_scaled = X_train.copy()\n",
    "X_test_scaled = X_test.copy()\n",
    "X_train_scaled[num_var] = scaler.transform(X_train_scaled[num_var])\n",
    "X_test_scaled[num_var] = scaler.transform(X_test_scaled[num_var])"
   ]
  },
  {
   "cell_type": "code",
   "execution_count": 33,
   "metadata": {},
   "outputs": [],
   "source": [
    "lr_pipe = Pipeline([\n",
    "    ('encode', OneHotEncoder(handle_unknown='ignore')),\n",
    "    ('model', LinearRegression())\n",
    "])"
   ]
  },
  {
   "cell_type": "code",
   "execution_count": 34,
   "metadata": {},
   "outputs": [
    {
     "name": "stdout",
     "output_type": "stream",
     "text": [
      "RMSE = 2022, R2 = 0.80\n"
     ]
    }
   ],
   "source": [
    "models.append(modelling(lr_pipe, X_train_scaled, y_train, X_test_scaled, y_test, name='Linear Regression'))"
   ]
  },
  {
   "cell_type": "markdown",
   "metadata": {},
   "source": [
    "### Lasso"
   ]
  },
  {
   "cell_type": "markdown",
   "metadata": {},
   "source": [
    "В данном проекте мы протестировали модель Lasso:\n",
    "```python\n",
    "    lasso_pipe = Pipeline([\n",
    "                            ('ohe', OneHotEncoder(handle_unknown='ignore')),\n",
    "                            ('scaler', StandardScaler(with_mean=False)),\n",
    "                            ('model', LassoCV(random_state=SEED))\n",
    "                            ])\n",
    "    lasso = LassoCV(random_state = SEED)\n",
    "    models.append(modelling(lasso_pipe, X_train, y_train, X_test, y_test, name='Lasso'))\n",
    "\n",
    "```\n",
    "Ее результаты исключены из ноутбука в силу того, что метрики обучения почти не отличаются от линейной регрессии, а время обучения составило неприемлемые несколько часов.\n",
    "\n",
    "Таким образом, признаем эту модель непригодной для решения задачи."
   ]
  },
  {
   "cell_type": "markdown",
   "metadata": {},
   "source": [
    "### LightGBM"
   ]
  },
  {
   "cell_type": "markdown",
   "metadata": {},
   "source": [
    "Чтобы построить модель на LightGBM необходимо предварительно предобработать категориальные признаки. \n",
    "\n",
    "Используем для этого [OrdinalEncoder](https://datascience.stackexchange.com/questions/39317/difference-between-ordinalencoder-and-labelencoder). Затем обучим модель с разными параметрами и, выбрав лучшие, посчитаем результаты модели."
   ]
  },
  {
   "cell_type": "code",
   "execution_count": 36,
   "metadata": {},
   "outputs": [
    {
     "data": {
      "text/plain": [
       "((219039, 10), (73013, 10))"
      ]
     },
     "execution_count": 36,
     "metadata": {},
     "output_type": "execute_result"
    }
   ],
   "source": [
    "enc = OrdinalEncoder()\n",
    "\n",
    "lgbm_train = enc.fit_transform(X_train)\n",
    "lgbm_test = enc.fit_transform(X_test)\n",
    "\n",
    "lgbm_train.shape, lgbm_test.shape"
   ]
  },
  {
   "cell_type": "code",
   "execution_count": 37,
   "metadata": {},
   "outputs": [],
   "source": [
    "# установки для поиска гиперпараметров модели\n",
    "lgbm_par = {\n",
    "    'learning_rate' : [0.01, 0.05, 0.1],\n",
    "    'num_leaves' : [30, 50, 70],\n",
    "    'n_estimators': [40, 80, 120]\n",
    "}\n",
    "\n",
    "cv = KFold(n_splits=3, shuffle=True, random_state=SEED)\n",
    "\n",
    "lgbm = lgb.LGBMRegressor(max_depth=15, verbose=0, seed=SEED)\n",
    "\n",
    "lgbm_grid = GridSearchCV(lgbm,\n",
    "                    lgbm_par,\n",
    "                    cv=cv,\n",
    "                    scoring='neg_root_mean_squared_error',\n",
    "                    n_jobs=-1,\n",
    "                    verbose=False)"
   ]
  },
  {
   "cell_type": "code",
   "execution_count": null,
   "metadata": {
    "scrolled": true
   },
   "outputs": [
    {
     "name": "stdout",
     "output_type": "stream",
     "text": [
      "[LightGBM] [Warning] Auto-choosing row-wise multi-threading, the overhead of testing was 1.893037 seconds.\n",
      "You can set `force_row_wise=true` to remove the overhead.\n",
      "And if memory is not enough, you can set `force_col_wise=true`.\n",
      "[LightGBM] [Warning] Auto-choosing row-wise multi-threading, the overhead of testing was 1.595034 seconds.\n",
      "You can set `force_row_wise=true` to remove the overhead.\n",
      "And if memory is not enough, you can set `force_col_wise=true`.\n",
      "[LightGBM] [Warning] Auto-choosing row-wise multi-threading, the overhead of testing was 1.792435 seconds.\n",
      "You can set `force_row_wise=true` to remove the overhead.\n",
      "And if memory is not enough, you can set `force_col_wise=true`.\n",
      "[LightGBM] [Warning] Auto-choosing row-wise multi-threading, the overhead of testing was 1.595056 seconds.\n",
      "You can set `force_row_wise=true` to remove the overhead.\n",
      "And if memory is not enough, you can set `force_col_wise=true`.\n",
      "[LightGBM] [Warning] Auto-choosing row-wise multi-threading, the overhead of testing was 1.786610 seconds.\n",
      "You can set `force_row_wise=true` to remove the overhead.\n",
      "And if memory is not enough, you can set `force_col_wise=true`.\n",
      "[LightGBM] [Warning] Auto-choosing row-wise multi-threading, the overhead of testing was 1.307398 seconds.\n",
      "You can set `force_row_wise=true` to remove the overhead.\n",
      "And if memory is not enough, you can set `force_col_wise=true`.\n",
      "[LightGBM] [Warning] Auto-choosing row-wise multi-threading, the overhead of testing was 1.500914 seconds.\n",
      "You can set `force_row_wise=true` to remove the overhead.\n",
      "And if memory is not enough, you can set `force_col_wise=true`.\n",
      "[LightGBM] [Warning] Auto-choosing row-wise multi-threading, the overhead of testing was 1.399565 seconds.\n",
      "You can set `force_row_wise=true` to remove the overhead.\n",
      "And if memory is not enough, you can set `force_col_wise=true`.\n",
      "[LightGBM] [Warning] Auto-choosing row-wise multi-threading, the overhead of testing was 1.602169 seconds.\n",
      "You can set `force_row_wise=true` to remove the overhead.\n",
      "And if memory is not enough, you can set `force_col_wise=true`.\n",
      "[LightGBM] [Warning] Auto-choosing col-wise multi-threading, the overhead of testing was 1.496745 seconds.\n",
      "You can set `force_col_wise=true` to remove the overhead.\n",
      "[LightGBM] [Warning] Auto-choosing row-wise multi-threading, the overhead of testing was 1.406531 seconds.\n",
      "You can set `force_row_wise=true` to remove the overhead.\n",
      "And if memory is not enough, you can set `force_col_wise=true`.\n",
      "[LightGBM] [Warning] Auto-choosing row-wise multi-threading, the overhead of testing was 1.003961 seconds.\n",
      "You can set `force_row_wise=true` to remove the overhead.\n",
      "And if memory is not enough, you can set `force_col_wise=true`.\n",
      "[LightGBM] [Warning] Auto-choosing row-wise multi-threading, the overhead of testing was 1.503392 seconds.\n",
      "You can set `force_row_wise=true` to remove the overhead.\n",
      "And if memory is not enough, you can set `force_col_wise=true`.\n"
     ]
    }
   ],
   "source": [
    "%%time\n",
    "lgbm_grid.fit(lgbm_train, y_train)"
   ]
  },
  {
   "cell_type": "code",
   "execution_count": null,
   "metadata": {},
   "outputs": [],
   "source": [
    "# добавляем результаты модели LightGBM в сводную таблицу \n",
    "models.append(modelling(lgbm_grid.best_estimator_, lgbm_train, y_train, lgbm_test, y_test, name='LGBM'))"
   ]
  },
  {
   "cell_type": "markdown",
   "metadata": {},
   "source": [
    "### CatBoost"
   ]
  },
  {
   "cell_type": "markdown",
   "metadata": {},
   "source": [
    "Проведем обучение модели градиентного бустинга с помощью пакета CatBoost. CatBoost умеет обрабатывать категориальные признаки, поэтому дополнительная обработка данных не требуется. Также попробуем перебрать несколько гиперпараметров с помощью grid_search."
   ]
  },
  {
   "cell_type": "code",
   "execution_count": null,
   "metadata": {},
   "outputs": [],
   "source": [
    "cb = CatBoostRegressor(random_seed=SEED,\n",
    "                        iterations=300,\n",
    "                        silent=True,\n",
    "                        cat_features=cat_var)\n",
    "\n",
    "cb_par = {'depth': [5, 10],\n",
    "        'l2_leaf_reg': [3, 5]}"
   ]
  },
  {
   "cell_type": "code",
   "execution_count": null,
   "metadata": {},
   "outputs": [],
   "source": [
    "%%time\n",
    "# обучаем модель с заданными параметрами\n",
    "grid_cb = cb.grid_search(cb_par, X=X_train, y=y_train)"
   ]
  },
  {
   "cell_type": "code",
   "execution_count": null,
   "metadata": {},
   "outputs": [],
   "source": [
    "# добавляем результаты модели CatBoost в сводную таблицу \n",
    "models.append(modelling(cb, X_train, y_train, X_test, y_test, name='CatBoost'))"
   ]
  },
  {
   "cell_type": "markdown",
   "metadata": {},
   "source": [
    "Для сравнения попробуем посчитать с установками по умолчанию."
   ]
  },
  {
   "cell_type": "code",
   "execution_count": null,
   "metadata": {},
   "outputs": [],
   "source": [
    "%%time\n",
    "cb2 = CatBoostRegressor(random_seed=SEED,\n",
    "                        learning_rate=0.15,\n",
    "                        silent=True,\n",
    "                        cat_features=cat_var)\n",
    "\n",
    "cb2.fit(X=X_train, y=y_train, eval_set=(X_test, y_test))"
   ]
  },
  {
   "cell_type": "code",
   "execution_count": null,
   "metadata": {},
   "outputs": [],
   "source": [
    "models.append(modelling(cb2, X_train, y_train, X_test, y_test, name='CatBoost2'))"
   ]
  },
  {
   "cell_type": "markdown",
   "metadata": {},
   "source": [
    "## Анализ моделей"
   ]
  },
  {
   "cell_type": "code",
   "execution_count": null,
   "metadata": {},
   "outputs": [],
   "source": [
    "models_summary = pd.DataFrame(models, columns=['model', 'rmse', 'r2', 'train_time', 'pred_time'])\n",
    "models_summary"
   ]
  },
  {
   "cell_type": "markdown",
   "metadata": {},
   "source": [
    "По качеству предсказания выигрывает модель CatBoost, причем при дефолтных настройках параметров результаты лучше. В тоже время модель CatBoost требует существенно больше времени на обучение, чем тот же градиентный спуск с помощью LightGBM.\n"
   ]
  },
  {
   "cell_type": "markdown",
   "metadata": {
    "id": "HGou1HvUp-RV"
   },
   "source": [
    "### Выводы:\n",
    "\n",
    "\n",
    "\n"
   ]
  },
  {
   "cell_type": "markdown",
   "metadata": {
    "id": "KjSbqlzWqMrp"
   },
   "source": [
    "Учитывая требования заказчика, наиболее подходящей моделью для прогнозирования стоимости автомобилей будет модель LightGBM - она дает быстрый результат приемлемого качества.\n"
   ]
  }
 ],
 "metadata": {
  "ExecuteTimeLog": [
   {
    "duration": 10855,
    "start_time": "2022-05-14T20:44:13.734Z"
   },
   {
    "duration": 10629,
    "start_time": "2022-05-14T20:44:45.376Z"
   },
   {
    "duration": 73,
    "start_time": "2022-05-14T20:45:08.203Z"
   },
   {
    "duration": 1585,
    "start_time": "2022-05-24T06:28:55.119Z"
   },
   {
    "duration": 4,
    "start_time": "2022-05-24T06:28:56.706Z"
   },
   {
    "duration": 1426,
    "start_time": "2022-05-24T06:28:56.712Z"
   },
   {
    "duration": 17,
    "start_time": "2022-05-24T06:28:58.141Z"
   },
   {
    "duration": 5,
    "start_time": "2022-05-24T06:28:58.159Z"
   },
   {
    "duration": 106,
    "start_time": "2022-05-24T06:28:58.165Z"
   },
   {
    "duration": 23,
    "start_time": "2022-05-24T06:28:58.272Z"
   },
   {
    "duration": 96,
    "start_time": "2022-05-24T06:28:58.296Z"
   },
   {
    "duration": 102,
    "start_time": "2022-05-24T06:28:58.394Z"
   },
   {
    "duration": 660,
    "start_time": "2022-05-24T06:28:58.499Z"
   },
   {
    "duration": 178,
    "start_time": "2022-05-24T06:28:59.161Z"
   },
   {
    "duration": 17,
    "start_time": "2022-05-24T06:28:59.341Z"
   },
   {
    "duration": 51,
    "start_time": "2022-05-24T06:28:59.360Z"
   },
   {
    "duration": 2265,
    "start_time": "2022-05-24T06:28:59.413Z"
   },
   {
    "duration": 45,
    "start_time": "2022-05-24T06:29:01.680Z"
   },
   {
    "duration": 2117,
    "start_time": "2022-05-24T06:29:01.727Z"
   },
   {
    "duration": 22,
    "start_time": "2022-05-24T06:29:03.848Z"
   },
   {
    "duration": 119,
    "start_time": "2022-05-24T06:29:03.872Z"
   },
   {
    "duration": 39,
    "start_time": "2022-05-24T06:29:03.994Z"
   },
   {
    "duration": 280,
    "start_time": "2022-05-24T06:29:04.039Z"
   },
   {
    "duration": 164,
    "start_time": "2022-05-24T06:29:04.321Z"
   },
   {
    "duration": 146,
    "start_time": "2022-05-24T06:29:04.486Z"
   },
   {
    "duration": 29,
    "start_time": "2022-05-24T06:29:04.635Z"
   },
   {
    "duration": 354,
    "start_time": "2022-05-24T06:29:04.666Z"
   },
   {
    "duration": 871,
    "start_time": "2022-05-24T06:29:05.021Z"
   },
   {
    "duration": 3,
    "start_time": "2022-05-24T06:29:05.894Z"
   },
   {
    "duration": 134,
    "start_time": "2022-05-24T06:29:05.898Z"
   },
   {
    "duration": 17,
    "start_time": "2022-05-24T06:29:06.041Z"
   },
   {
    "duration": 78,
    "start_time": "2022-05-24T06:29:06.059Z"
   },
   {
    "duration": 6,
    "start_time": "2022-05-24T06:29:06.139Z"
   },
   {
    "duration": 13,
    "start_time": "2022-05-24T06:29:06.146Z"
   },
   {
    "duration": 5329,
    "start_time": "2022-05-24T06:29:06.161Z"
   },
   {
    "duration": 2,
    "start_time": "2022-05-24T06:29:11.492Z"
   },
   {
    "duration": 391,
    "start_time": "2022-05-24T06:29:11.496Z"
   },
   {
    "duration": 4,
    "start_time": "2022-05-24T06:29:11.889Z"
   },
   {
    "duration": 2361336,
    "start_time": "2022-05-24T06:29:11.895Z"
   },
   {
    "duration": 24995,
    "start_time": "2022-05-24T07:08:33.232Z"
   },
   {
    "duration": 3,
    "start_time": "2022-05-24T07:08:58.229Z"
   },
   {
    "duration": 959960,
    "start_time": "2022-05-24T07:08:58.234Z"
   },
   {
    "duration": 150585,
    "start_time": "2022-05-24T07:24:58.196Z"
   },
   {
    "duration": 262182,
    "start_time": "2022-05-24T07:27:28.783Z"
   },
   {
    "duration": 239991,
    "start_time": "2022-05-24T07:31:50.967Z"
   },
   {
    "duration": 11,
    "start_time": "2022-05-24T07:35:50.960Z"
   },
   {
    "duration": 2269,
    "start_time": "2022-05-24T09:51:16.489Z"
   },
   {
    "duration": 3,
    "start_time": "2022-05-24T09:51:18.760Z"
   },
   {
    "duration": 1316,
    "start_time": "2022-05-24T09:51:18.765Z"
   },
   {
    "duration": 19,
    "start_time": "2022-05-24T09:51:20.083Z"
   },
   {
    "duration": 17,
    "start_time": "2022-05-24T09:51:20.105Z"
   },
   {
    "duration": 91,
    "start_time": "2022-05-24T09:51:20.124Z"
   },
   {
    "duration": 23,
    "start_time": "2022-05-24T09:51:20.217Z"
   },
   {
    "duration": 101,
    "start_time": "2022-05-24T09:51:20.242Z"
   },
   {
    "duration": 97,
    "start_time": "2022-05-24T09:51:20.345Z"
   },
   {
    "duration": 621,
    "start_time": "2022-05-24T09:51:20.444Z"
   },
   {
    "duration": 155,
    "start_time": "2022-05-24T09:51:21.067Z"
   },
   {
    "duration": 13,
    "start_time": "2022-05-24T09:51:21.223Z"
   },
   {
    "duration": 37,
    "start_time": "2022-05-24T09:51:21.253Z"
   },
   {
    "duration": 125,
    "start_time": "2022-05-24T09:51:40.212Z"
   },
   {
    "duration": 17,
    "start_time": "2022-05-24T09:53:42.393Z"
   },
   {
    "duration": 12,
    "start_time": "2022-05-24T10:50:42.646Z"
   },
   {
    "duration": 32,
    "start_time": "2022-05-24T10:50:44.021Z"
   },
   {
    "duration": 2150,
    "start_time": "2022-05-24T10:50:56.397Z"
   },
   {
    "duration": 25,
    "start_time": "2022-05-24T10:51:08.213Z"
   },
   {
    "duration": 1749,
    "start_time": "2022-05-24T10:51:09.493Z"
   },
   {
    "duration": 18,
    "start_time": "2022-05-24T10:51:17.022Z"
   },
   {
    "duration": 73,
    "start_time": "2022-05-24T10:51:20.154Z"
   },
   {
    "duration": 21,
    "start_time": "2022-05-24T10:51:33.546Z"
   },
   {
    "duration": 218,
    "start_time": "2022-05-24T10:51:35.653Z"
   },
   {
    "duration": 100,
    "start_time": "2022-05-24T10:51:40.294Z"
   },
   {
    "duration": 118,
    "start_time": "2022-05-24T10:52:02.534Z"
   },
   {
    "duration": 23,
    "start_time": "2022-05-24T10:52:08.547Z"
   },
   {
    "duration": 277,
    "start_time": "2022-05-24T10:52:10.474Z"
   },
   {
    "duration": 918,
    "start_time": "2022-05-24T10:52:14.753Z"
   },
   {
    "duration": 2,
    "start_time": "2022-05-24T10:52:21.555Z"
   },
   {
    "duration": 66,
    "start_time": "2022-05-24T10:52:22.466Z"
   },
   {
    "duration": 17,
    "start_time": "2022-05-24T10:52:34.995Z"
   },
   {
    "duration": 63,
    "start_time": "2022-05-24T10:52:40.178Z"
   },
   {
    "duration": 3,
    "start_time": "2022-05-24T10:59:09.974Z"
   },
   {
    "duration": 129,
    "start_time": "2022-05-24T10:59:12.136Z"
   },
   {
    "duration": 7,
    "start_time": "2022-05-24T10:59:25.281Z"
   },
   {
    "duration": 104,
    "start_time": "2022-05-24T10:59:29.374Z"
   },
   {
    "duration": 3,
    "start_time": "2022-05-24T11:10:00.948Z"
   },
   {
    "duration": 5062,
    "start_time": "2022-05-24T11:10:06.313Z"
   },
   {
    "duration": 27,
    "start_time": "2022-05-24T11:35:01.413Z"
   },
   {
    "duration": 54,
    "start_time": "2022-05-24T11:36:52.554Z"
   },
   {
    "duration": 3,
    "start_time": "2022-05-24T11:37:05.453Z"
   },
   {
    "duration": 42994,
    "start_time": "2022-05-24T11:37:07.564Z"
   },
   {
    "duration": 51,
    "start_time": "2022-05-24T11:44:44.772Z"
   },
   {
    "duration": 67,
    "start_time": "2022-05-24T12:03:17.955Z"
   },
   {
    "duration": 559,
    "start_time": "2022-05-24T12:03:44.031Z"
   },
   {
    "duration": 5,
    "start_time": "2022-05-24T12:03:52.256Z"
   },
   {
    "duration": 10,
    "start_time": "2022-05-24T12:04:03.533Z"
   },
   {
    "duration": 31920,
    "start_time": "2022-05-24T12:04:15.092Z"
   },
   {
    "duration": 5,
    "start_time": "2022-05-24T12:05:12.132Z"
   },
   {
    "duration": 619267,
    "start_time": "2022-05-24T12:05:19.392Z"
   },
   {
    "duration": 8812,
    "start_time": "2022-05-24T12:15:38.662Z"
   },
   {
    "duration": 610,
    "start_time": "2022-05-24T13:47:52.292Z"
   },
   {
    "duration": 4,
    "start_time": "2022-05-24T13:47:57.993Z"
   },
   {
    "duration": 473704,
    "start_time": "2022-05-24T13:48:09.364Z"
   },
   {
    "duration": 14183,
    "start_time": "2022-05-24T13:56:03.070Z"
   },
   {
    "duration": 38,
    "start_time": "2022-05-24T14:14:58.699Z"
   },
   {
    "duration": 1389,
    "start_time": "2022-05-25T07:58:17.764Z"
   },
   {
    "duration": 2,
    "start_time": "2022-05-25T07:58:19.156Z"
   },
   {
    "duration": 1204,
    "start_time": "2022-05-25T07:58:19.160Z"
   },
   {
    "duration": 17,
    "start_time": "2022-05-25T07:58:20.366Z"
   },
   {
    "duration": 11,
    "start_time": "2022-05-25T07:58:20.385Z"
   },
   {
    "duration": 124,
    "start_time": "2022-05-25T07:58:20.398Z"
   },
   {
    "duration": 36,
    "start_time": "2022-05-25T07:58:20.523Z"
   },
   {
    "duration": 102,
    "start_time": "2022-05-25T07:58:20.561Z"
   },
   {
    "duration": 94,
    "start_time": "2022-05-25T07:58:20.665Z"
   },
   {
    "duration": 526,
    "start_time": "2022-05-25T07:58:20.761Z"
   },
   {
    "duration": 132,
    "start_time": "2022-05-25T07:58:21.289Z"
   },
   {
    "duration": 11,
    "start_time": "2022-05-25T07:58:21.423Z"
   },
   {
    "duration": 48,
    "start_time": "2022-05-25T07:58:21.435Z"
   },
   {
    "duration": 2056,
    "start_time": "2022-05-25T07:58:21.484Z"
   },
   {
    "duration": 36,
    "start_time": "2022-05-25T07:58:23.542Z"
   },
   {
    "duration": 1793,
    "start_time": "2022-05-25T07:58:23.580Z"
   },
   {
    "duration": 18,
    "start_time": "2022-05-25T07:58:25.375Z"
   },
   {
    "duration": 104,
    "start_time": "2022-05-25T07:58:25.395Z"
   },
   {
    "duration": 25,
    "start_time": "2022-05-25T07:58:25.501Z"
   },
   {
    "duration": 258,
    "start_time": "2022-05-25T07:58:25.527Z"
   },
   {
    "duration": 113,
    "start_time": "2022-05-25T07:58:25.786Z"
   },
   {
    "duration": 122,
    "start_time": "2022-05-25T07:58:25.901Z"
   },
   {
    "duration": 26,
    "start_time": "2022-05-25T07:58:26.025Z"
   },
   {
    "duration": 283,
    "start_time": "2022-05-25T07:58:26.059Z"
   },
   {
    "duration": 788,
    "start_time": "2022-05-25T07:58:26.343Z"
   },
   {
    "duration": 3,
    "start_time": "2022-05-25T07:58:27.133Z"
   },
   {
    "duration": 98,
    "start_time": "2022-05-25T07:58:27.138Z"
   },
   {
    "duration": 29,
    "start_time": "2022-05-25T07:58:27.240Z"
   },
   {
    "duration": 76,
    "start_time": "2022-05-25T07:58:27.271Z"
   },
   {
    "duration": 5,
    "start_time": "2022-05-25T07:58:27.360Z"
   },
   {
    "duration": 57,
    "start_time": "2022-05-25T07:58:27.368Z"
   },
   {
    "duration": 3,
    "start_time": "2022-05-25T07:58:27.427Z"
   },
   {
    "duration": 52950,
    "start_time": "2022-05-25T07:58:27.431Z"
   },
   {
    "duration": 3,
    "start_time": "2022-05-25T07:59:20.384Z"
   },
   {
    "duration": 580,
    "start_time": "2022-05-25T07:59:20.389Z"
   },
   {
    "duration": 3,
    "start_time": "2022-05-25T07:59:20.971Z"
   },
   {
    "duration": 1060298,
    "start_time": "2022-05-25T07:59:20.975Z"
   },
   {
    "duration": 10196,
    "start_time": "2022-05-25T08:17:01.275Z"
   },
   {
    "duration": 3,
    "start_time": "2022-05-25T08:17:11.473Z"
   },
   {
    "duration": 850452,
    "start_time": "2022-05-25T08:17:11.477Z"
   },
   {
    "duration": 142342,
    "start_time": "2022-05-25T08:31:21.931Z"
   },
   {
    "duration": 246029,
    "start_time": "2022-05-25T08:33:44.274Z"
   },
   {
    "duration": 230600,
    "start_time": "2022-05-25T08:37:50.305Z"
   },
   {
    "duration": 10,
    "start_time": "2022-05-25T08:41:40.907Z"
   },
   {
    "duration": 1931,
    "start_time": "2022-05-25T17:47:07.609Z"
   },
   {
    "duration": 3,
    "start_time": "2022-05-25T17:47:09.542Z"
   },
   {
    "duration": 3946,
    "start_time": "2022-05-25T17:47:09.546Z"
   },
   {
    "duration": 15,
    "start_time": "2022-05-25T17:47:13.494Z"
   },
   {
    "duration": 3,
    "start_time": "2022-05-25T17:47:13.510Z"
   },
   {
    "duration": 107,
    "start_time": "2022-05-25T17:47:13.514Z"
   },
   {
    "duration": 25,
    "start_time": "2022-05-25T17:47:13.623Z"
   },
   {
    "duration": 78,
    "start_time": "2022-05-25T17:47:13.650Z"
   },
   {
    "duration": 96,
    "start_time": "2022-05-25T17:47:13.729Z"
   },
   {
    "duration": 565,
    "start_time": "2022-05-25T17:47:13.827Z"
   },
   {
    "duration": 129,
    "start_time": "2022-05-25T17:47:14.394Z"
   },
   {
    "duration": 10,
    "start_time": "2022-05-25T17:47:14.524Z"
   },
   {
    "duration": 53,
    "start_time": "2022-05-25T17:47:14.536Z"
   },
   {
    "duration": 2131,
    "start_time": "2022-05-25T17:47:14.592Z"
   },
   {
    "duration": 25,
    "start_time": "2022-05-25T17:47:16.725Z"
   },
   {
    "duration": 1868,
    "start_time": "2022-05-25T17:47:16.759Z"
   },
   {
    "duration": 32,
    "start_time": "2022-05-25T17:47:18.629Z"
   },
   {
    "duration": 84,
    "start_time": "2022-05-25T17:47:18.672Z"
   },
   {
    "duration": 35,
    "start_time": "2022-05-25T17:47:18.758Z"
   },
   {
    "duration": 291,
    "start_time": "2022-05-25T17:47:18.797Z"
   },
   {
    "duration": 122,
    "start_time": "2022-05-25T17:47:19.090Z"
   },
   {
    "duration": 118,
    "start_time": "2022-05-25T17:47:19.213Z"
   },
   {
    "duration": 35,
    "start_time": "2022-05-25T17:47:19.333Z"
   },
   {
    "duration": 285,
    "start_time": "2022-05-25T17:47:19.373Z"
   },
   {
    "duration": 851,
    "start_time": "2022-05-25T17:47:19.666Z"
   },
   {
    "duration": 3,
    "start_time": "2022-05-25T17:47:20.519Z"
   },
   {
    "duration": 102,
    "start_time": "2022-05-25T17:47:20.523Z"
   },
   {
    "duration": 14,
    "start_time": "2022-05-25T17:47:20.627Z"
   },
   {
    "duration": 80,
    "start_time": "2022-05-25T17:47:20.643Z"
   },
   {
    "duration": 5,
    "start_time": "2022-05-25T17:47:20.725Z"
   },
   {
    "duration": 199,
    "start_time": "2022-05-25T17:47:45.614Z"
   },
   {
    "duration": 218,
    "start_time": "2022-05-25T17:48:11.018Z"
   },
   {
    "duration": 155,
    "start_time": "2022-05-25T17:49:11.394Z"
   },
   {
    "duration": 333,
    "start_time": "2022-05-25T17:49:53.388Z"
   },
   {
    "duration": 89,
    "start_time": "2022-05-25T17:51:13.709Z"
   },
   {
    "duration": 17,
    "start_time": "2022-05-25T17:51:18.631Z"
   },
   {
    "duration": 20,
    "start_time": "2022-05-25T17:52:16.348Z"
   },
   {
    "duration": 224,
    "start_time": "2022-05-25T17:52:33.681Z"
   },
   {
    "duration": 171,
    "start_time": "2022-05-25T17:53:28.097Z"
   },
   {
    "duration": 11,
    "start_time": "2022-05-25T17:53:45.739Z"
   },
   {
    "duration": 13,
    "start_time": "2022-05-25T17:54:02.925Z"
   },
   {
    "duration": 245,
    "start_time": "2022-05-25T17:54:27.807Z"
   },
   {
    "duration": 21,
    "start_time": "2022-05-25T17:54:47.904Z"
   },
   {
    "duration": 62,
    "start_time": "2022-05-25T17:55:09.302Z"
   },
   {
    "duration": 9,
    "start_time": "2022-05-25T17:55:14.887Z"
   },
   {
    "duration": 195,
    "start_time": "2022-05-25T17:55:20.744Z"
   },
   {
    "duration": 12,
    "start_time": "2022-05-25T17:55:41.103Z"
   },
   {
    "duration": 6,
    "start_time": "2022-05-25T17:55:59.758Z"
   },
   {
    "duration": 40181,
    "start_time": "2022-05-25T17:56:02.120Z"
   },
   {
    "duration": 209,
    "start_time": "2022-05-25T18:15:05.914Z"
   },
   {
    "duration": 316,
    "start_time": "2022-05-25T18:27:23.176Z"
   },
   {
    "duration": 336,
    "start_time": "2022-05-25T18:27:27.991Z"
   },
   {
    "duration": 12,
    "start_time": "2022-05-25T18:27:33.846Z"
   },
   {
    "duration": 4,
    "start_time": "2022-05-25T18:28:00.178Z"
   },
   {
    "duration": 41454,
    "start_time": "2022-05-25T18:28:01.058Z"
   },
   {
    "duration": 4,
    "start_time": "2022-05-25T18:33:56.915Z"
   },
   {
    "duration": 225,
    "start_time": "2022-05-25T18:34:29.959Z"
   },
   {
    "duration": 4,
    "start_time": "2022-05-25T18:34:34.021Z"
   },
   {
    "duration": 43494,
    "start_time": "2022-05-25T18:34:39.790Z"
   },
   {
    "duration": 4,
    "start_time": "2022-05-25T18:39:14.824Z"
   },
   {
    "duration": 614,
    "start_time": "2022-05-25T19:08:30.489Z"
   },
   {
    "duration": 35,
    "start_time": "2022-05-25T19:08:42.581Z"
   },
   {
    "duration": 4,
    "start_time": "2022-05-25T19:09:21.162Z"
   },
   {
    "duration": 4111026,
    "start_time": "2022-05-25T19:09:29.595Z"
   },
   {
    "duration": 678,
    "start_time": "2022-05-25T20:18:01.322Z"
   },
   {
    "duration": 11,
    "start_time": "2022-05-25T20:18:02.004Z"
   },
   {
    "duration": 545,
    "start_time": "2022-05-25T20:20:04.598Z"
   },
   {
    "duration": 4,
    "start_time": "2022-05-25T20:20:12.710Z"
   },
   {
    "duration": 3847531,
    "start_time": "2022-05-25T20:20:18.540Z"
   },
   {
    "duration": 933949,
    "start_time": "2022-05-25T22:18:37.215Z"
   },
   {
    "duration": 15391,
    "start_time": "2022-05-26T16:08:28.604Z"
   },
   {
    "duration": 5,
    "start_time": "2022-05-26T16:08:43.998Z"
   },
   {
    "duration": 24101,
    "start_time": "2022-05-26T16:08:44.102Z"
   },
   {
    "duration": 391,
    "start_time": "2022-05-26T16:09:08.205Z"
   },
   {
    "duration": 95,
    "start_time": "2022-05-26T16:09:08.602Z"
   },
   {
    "duration": 1389,
    "start_time": "2022-05-26T16:09:08.705Z"
   },
   {
    "duration": 300,
    "start_time": "2022-05-26T16:09:10.104Z"
   },
   {
    "duration": 791,
    "start_time": "2022-05-26T16:09:10.406Z"
   },
   {
    "duration": 1007,
    "start_time": "2022-05-26T16:09:11.199Z"
   },
   {
    "duration": 6793,
    "start_time": "2022-05-26T16:09:12.302Z"
   },
   {
    "duration": 1308,
    "start_time": "2022-05-26T16:09:19.096Z"
   },
   {
    "duration": 195,
    "start_time": "2022-05-26T16:09:20.505Z"
   },
   {
    "duration": 696,
    "start_time": "2022-05-26T16:09:20.702Z"
   },
   {
    "duration": 17897,
    "start_time": "2022-05-26T16:09:21.498Z"
   },
   {
    "duration": 299,
    "start_time": "2022-05-26T16:09:39.398Z"
   },
   {
    "duration": 16598,
    "start_time": "2022-05-26T16:09:39.701Z"
   },
   {
    "duration": 496,
    "start_time": "2022-05-26T16:09:56.305Z"
   },
   {
    "duration": 799,
    "start_time": "2022-05-26T16:09:56.803Z"
   },
   {
    "duration": 496,
    "start_time": "2022-05-26T16:09:57.604Z"
   },
   {
    "duration": 3394,
    "start_time": "2022-05-26T16:09:58.202Z"
   },
   {
    "duration": 1205,
    "start_time": "2022-05-26T16:10:01.598Z"
   },
   {
    "duration": 1200,
    "start_time": "2022-05-26T16:10:02.897Z"
   },
   {
    "duration": 201,
    "start_time": "2022-05-26T16:10:04.102Z"
   },
   {
    "duration": 2903,
    "start_time": "2022-05-26T16:10:04.395Z"
   },
   {
    "duration": 9399,
    "start_time": "2022-05-26T16:10:07.300Z"
   },
   {
    "duration": 97,
    "start_time": "2022-05-26T16:10:16.704Z"
   },
   {
    "duration": 998,
    "start_time": "2022-05-26T16:10:16.803Z"
   },
   {
    "duration": 299,
    "start_time": "2022-05-26T16:10:17.900Z"
   },
   {
    "duration": 1297,
    "start_time": "2022-05-26T16:10:18.202Z"
   },
   {
    "duration": 99,
    "start_time": "2022-05-26T16:10:19.503Z"
   },
   {
    "duration": 198,
    "start_time": "2022-05-26T16:10:19.606Z"
   },
   {
    "duration": 2289,
    "start_time": "2022-05-26T16:10:19.805Z"
   },
   {
    "duration": 97,
    "start_time": "2022-05-26T16:10:22.101Z"
   },
   {
    "duration": 104601,
    "start_time": "2022-05-26T16:10:22.200Z"
   },
   {
    "duration": 91,
    "start_time": "2022-05-26T16:12:06.806Z"
   },
   {
    "duration": 5994,
    "start_time": "2022-05-26T16:12:06.901Z"
   },
   {
    "duration": 100,
    "start_time": "2022-05-26T16:12:12.897Z"
   }
  ],
  "kernelspec": {
   "display_name": "Python 3.9.12 ('Practicum')",
   "language": "python",
   "name": "python3"
  },
  "language_info": {
   "codemirror_mode": {
    "name": "ipython",
    "version": 3
   },
   "file_extension": ".py",
   "mimetype": "text/x-python",
   "name": "python",
   "nbconvert_exporter": "python",
   "pygments_lexer": "ipython3",
   "version": "3.9.12 | packaged by conda-forge | (main, Mar 24 2022, 23:17:03) [MSC v.1929 64 bit (AMD64)]"
  },
  "toc": {
   "base_numbering": 1,
   "nav_menu": {},
   "number_sections": true,
   "sideBar": true,
   "skip_h1_title": true,
   "title_cell": "Table of Contents",
   "title_sidebar": "Contents",
   "toc_cell": false,
   "toc_position": {
    "height": "calc(100% - 180px)",
    "left": "10px",
    "top": "150px",
    "width": "287.195px"
   },
   "toc_section_display": true,
   "toc_window_display": true
  },
  "vscode": {
   "interpreter": {
    "hash": "dcc11457b9df7bee207b8532303893b92a6e01e1aa376d86e6157082327e4cdc"
   }
  }
 },
 "nbformat": 4,
 "nbformat_minor": 2
}
